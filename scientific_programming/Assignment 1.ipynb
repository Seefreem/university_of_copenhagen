{
 "cells": [
  {
   "cell_type": "markdown",
   "metadata": {},
   "source": [
    "## Assignment 1\n",
    "\n",
    "In this assignment you are expected to implements Python functions that estimate some mathematical constants and operators. The assignmnet focuses on your Python expertiese on recursive functions, loops, `if` statements, data structures, and basic operators.  "
   ]
  },
  {
   "cell_type": "code",
   "execution_count": 1,
   "metadata": {
    "collapsed": true
   },
   "outputs": [],
   "source": [
    "import numpy as np"
   ]
  },
  {
   "cell_type": "markdown",
   "metadata": {},
   "source": [
    "We are going to implement some functions/constants that our calculator / `numpy` / Google has.\n",
    "\n",
    "#### Exercise 1: Write a function that calculates the factorial of a number `n`\n",
    "\n",
    "The factorial of a number is represented by using the exclamation sign, for example, the factorial of $3$ is represented as $3!$. You can see how the factorial of a number N is calculated in the following examples:\n",
    "\n",
    "$$1! = 1$$\n",
    "\n",
    "$$2! = 2 x 1 = 2$$\n",
    "\n",
    "$$3! = 3 x 2 x 1 = 6$$\n",
    "\n",
    "$$4! = 4 x 3 x 2 x 1 = 24$$\n",
    "\n",
    "The general formula is:\n",
    "\n",
    "$$n! = n (n-1)!$$\n",
    "\n",
    "$$1! = 1$$\n",
    "\n",
    "$$0! = 1$$\n",
    "\n",
    "You can use either an iterative approach (with for or while loops) or a recursive approach."
   ]
  },
  {
   "cell_type": "code",
   "execution_count": 2,
   "metadata": {
    "collapsed": true
   },
   "outputs": [],
   "source": [
    "def fact (n):\n",
    "    #YOUR CODE HERE\n",
    "    result = 1\n",
    "    for i in range(n, 0, -1):\n",
    "        result *= i\n",
    "    return result\n",
    "\n",
    "# def fact_r(n):\n",
    "#     if n == 0 or n == 1:\n",
    "#         return 1\n",
    "#     else :\n",
    "#         return n * fact_r(n - 1)"
   ]
  },
  {
   "cell_type": "code",
   "execution_count": 3,
   "metadata": {},
   "outputs": [
    {
     "data": {
      "text/plain": [
       "(120, 720, 5040, 3628800)"
      ]
     },
     "execution_count": 3,
     "metadata": {},
     "output_type": "execute_result"
    }
   ],
   "source": [
    "fact(5),fact(6),fact(7),fact(10)"
   ]
  },
  {
   "cell_type": "markdown",
   "metadata": {},
   "source": [
    "#### Exercise 2: Approximate number e\n",
    "\n",
    "Euler's number, the number `e` is a constant number which is the base of the natural logarithm ($ln$). It is approximately 2.71828 and it can be calculated as the sum of the following infinite series:\n",
    "\n",
    "$$e \\approx \\sum _ { k = 0 } ^ { \\infty } \\frac { 1 } { k ! } = \\frac{1}{1} + \\frac{1}{1} + \\frac{1}{1x2}+ \\frac{1}{1x2x3}+ \\frac{1}{1x2x3x4} + \\ldots$$\n",
    "\n",
    "We know that infinity is very big, but, we can approximate the number, let's say, until $k=100$. Can you?"
   ]
  },
  {
   "cell_type": "code",
   "execution_count": 4,
   "metadata": {
    "collapsed": true
   },
   "outputs": [],
   "source": [
    "def approximate_e ():\n",
    "    #YOUR CODE HERE 新知识，python的int类型支持无限大，换句话说就是，这里不必考虑溢出的问题。\n",
    "    temp = 1.0 # temp is the ith element of the infinite series\n",
    "    e = 1.0 # let's skip the first term of the infinite series\n",
    "    for i in range(1, 101):\n",
    "        e += temp / i\n",
    "        temp = temp / i\n",
    "    return e"
   ]
  },
  {
   "cell_type": "code",
   "execution_count": 5,
   "metadata": {},
   "outputs": [
    {
     "data": {
      "text/plain": [
       "2.7182818284590455"
      ]
     },
     "execution_count": 5,
     "metadata": {},
     "output_type": "execute_result"
    }
   ],
   "source": [
    "e = approximate_e()\n",
    "e"
   ]
  },
  {
   "cell_type": "markdown",
   "metadata": {},
   "source": [
    "#### Additional/Optional exercise:\n",
    "\n",
    "What is the difference between the approximate values of e with $k=20$ and $k=21$? How is that difference as $k$ becomes bigger?"
   ]
  },
  {
   "cell_type": "code",
   "execution_count": 6,
   "metadata": {
    "collapsed": true
   },
   "outputs": [
    {
     "name": "stdout",
     "output_type": "stream",
     "text": [
      "The difference between k=0 and k=1 is 1.0\n",
      "The difference between k=1 and k=2 is 0.5\n",
      "The difference between k=2 and k=3 is 0.16666666666666666\n",
      "The difference between k=3 and k=4 is 0.041666666666666664\n",
      "The difference between k=4 and k=5 is 0.008333333333333333\n",
      "The difference between k=5 and k=6 is 0.001388888888888889\n",
      "The difference between k=6 and k=7 is 0.0001984126984126984\n",
      "The difference between k=7 and k=8 is 2.48015873015873e-05\n",
      "The difference between k=8 and k=9 is 2.7557319223985893e-06\n",
      "The difference between k=9 and k=10 is 2.7557319223985894e-07\n",
      "The difference between k=10 and k=11 is 2.505210838544172e-08\n",
      "The difference between k=11 and k=12 is 2.08767569878681e-09\n",
      "The difference between k=12 and k=13 is 1.6059043836821616e-10\n",
      "The difference between k=13 and k=14 is 1.1470745597729726e-11\n",
      "The difference between k=14 and k=15 is 7.647163731819817e-13\n",
      "The difference between k=15 and k=16 is 4.779477332387386e-14\n",
      "The difference between k=16 and k=17 is 2.811457254345521e-15\n",
      "The difference between k=17 and k=18 is 1.5619206968586228e-16\n",
      "The difference between k=18 and k=19 is 8.220635246624331e-18\n",
      "The difference between k=19 and k=20 is 4.1103176233121653e-19\n",
      "The difference between k=20 and k=21 is 1.9572941063391263e-20\n"
     ]
    },
    {
     "data": {
      "text/plain": [
       "2.7182818284590455"
      ]
     },
     "execution_count": 6,
     "metadata": {},
     "output_type": "execute_result"
    }
   ],
   "source": [
    "#YOUR CODE HERE (OPTIONAL)\n",
    "def approximate_e(k):\n",
    "    temp = 1.0\n",
    "    e = 1.0 \n",
    "    for i in range(1, k + 1):\n",
    "        e += temp / i\n",
    "        temp = temp / i\n",
    "        print(f\"The difference between k={i - 1} and k={i} is\", temp)\n",
    "    return e\n",
    "approximate_e(21)\n",
    "# As k goes bigger, the differences become smaller"
   ]
  },
  {
   "cell_type": "markdown",
   "metadata": {},
   "source": [
    "#### Exercise 3: Approximate Square root using the Babylonian method\n",
    "\n",
    "Now we are interested in calculating the square root of any number. It may seem trivial, but it is not so easy. Think, for instance, which is the square root of $60$?\n",
    "\n",
    "[This wiki article](https://en.wikipedia.org/wiki/Methods_of_computing_square_roots) shows different approaches!\n",
    "\n",
    "In this exercise you have to implement the Babylonian method, which calculates the square roots quite well. As with the number `e`, this result is reached when the function reaches infinity. Here you should also work for $k=100$ iterations.\n",
    "\n",
    "The method initializes $x_0$ with the approximate square root of $S$. In our case, in order to ensure that everybody gets the same answer, we will initialize the value with $S$.\n",
    "\n",
    "\n",
    "$$x _ { 0 } = S $$\n",
    "\n",
    "$$x _ { k + 1 } = \\frac { 1 } { 2 } \\left( x _ { k } + \\frac { S } { x _ { k } } \\right) $$\n",
    "\n",
    "$$\\sqrt { S } = \\lim _ { k \\rightarrow \\infty } x _ { k }$$\n"
   ]
  },
  {
   "cell_type": "code",
   "execution_count": 7,
   "metadata": {
    "collapsed": true
   },
   "outputs": [],
   "source": [
    "def appr_sqrt(S, init = None):\n",
    "    #YOUR CODE HERE\n",
    "    if init:\n",
    "        x = init\n",
    "    else:\n",
    "        x = S\n",
    "    for i in range(1, 101):\n",
    "        x = 1.0/2*(x + S / x)\n",
    "    return x"
   ]
  },
  {
   "cell_type": "code",
   "execution_count": 8,
   "metadata": {},
   "outputs": [
    {
     "data": {
      "text/plain": [
       "12.24744871391589"
      ]
     },
     "execution_count": 8,
     "metadata": {},
     "output_type": "execute_result"
    }
   ],
   "source": [
    "appr_sqrt(150)"
   ]
  },
  {
   "cell_type": "markdown",
   "metadata": {},
   "source": [
    "#### Additional/Optional exercise:\n",
    "\n",
    "What happens if we initialize the $x_0$ with different values?"
   ]
  },
  {
   "cell_type": "code",
   "execution_count": 9,
   "metadata": {
    "collapsed": true
   },
   "outputs": [
    {
     "name": "stdout",
     "output_type": "stream",
     "text": [
      "12.24744871391589\n",
      "12.24744871391589\n",
      "12.24744871391589\n",
      "12.24744871391589\n",
      "12.24744871391589\n",
      "12.24744871391589\n"
     ]
    }
   ],
   "source": [
    "#YOUR CODE HERE (OPTIONAL)\n",
    "print(appr_sqrt(150, 0))\n",
    "print(appr_sqrt(150, 1))\n",
    "print(appr_sqrt(150, 2))\n",
    "print(appr_sqrt(150, 4))\n",
    "print(appr_sqrt(150, 1024))\n",
    "print(appr_sqrt(150, 10000))\n",
    "# The result is the same at this floating-point precision."
   ]
  },
  {
   "cell_type": "markdown",
   "metadata": {},
   "source": [
    "#### Exercise 4: Approximate the number $\\pi$\n",
    "\n",
    "The number $\\pi$ is an amazing number! It was originally defined as the ratio of a circle's circumference to its diameter, and now it has some other equivalent definitions.\n",
    "\n",
    "We saw an approximation for estimating the number by using random numbers (this is also known as a Montecarlo simulation), but today we will implement another formula for approximating it. Here it is:\n",
    "\n",
    "$$v a l = \\sum _ { k = 0 } ^ { \\infty } \\frac { (- 3) ^ { - k } } { 2 k + 1 }$$\n",
    "\n",
    "$$\\pi \\approx val \\cdot \\sqrt { 12 }$$\n",
    "\n",
    "Again, this is an infinite series, which should approximate the number fairly well for high numbers. But, as in previous cases, in order to have a coherent result, we will calculate the value of $\\pi$ after $k=100$ iterations, and using the previously created `appr_sqrt` function. "
   ]
  },
  {
   "cell_type": "code",
   "execution_count": 10,
   "metadata": {
    "collapsed": true
   },
   "outputs": [],
   "source": [
    "def appr_pi ():\n",
    "    #YOUR CODE HERE\n",
    "    val = 1\n",
    "    temp = 1\n",
    "    for k in range(1, 101):\n",
    "        temp = temp / (-3)\n",
    "        val += temp / (2 * k + 1)\n",
    "    return val * appr_sqrt(12)"
   ]
  },
  {
   "cell_type": "code",
   "execution_count": 11,
   "metadata": {},
   "outputs": [
    {
     "data": {
      "text/plain": [
       "3.141592653589794"
      ]
     },
     "execution_count": 11,
     "metadata": {},
     "output_type": "execute_result"
    }
   ],
   "source": [
    "appr_pi()"
   ]
  },
  {
   "cell_type": "markdown",
   "metadata": {},
   "source": [
    "#### Exercise 5: Matrix multiplication with lists\n",
    "\n",
    "We know how important matrix multiplication is for machine learning, deep learning and algebra. We also know that there is a wonderful function in the package `numpy` that can do that for us (`np.dot`). \n",
    "\n",
    "In this excercise you are asked to implement a matrix multiplication function `matrix_multiply(m1, m2)` that takes two numpy matrices as arguments and returns the matrix product of these in a new matrix. The function should work element by element without calling any vectorized method or the `np.dot`. Although numpy library already implements matrix multiplication, your implementation cannot use any part of the numpy library, with the exceptions noted below:\n",
    "\n",
    "  * `.shape` to get the size of a matrix;\n",
    "  * `np.zeros((n, m))` to create a new $n$ by $m$ matrix; and\n",
    "  * the `[i, j]` indexing syntax to retrieve or set the value of cell $(i, j)$.\n",
    "\n",
    "Below are defined matrices $X, Y$ and $Z$.\n",
    "\n",
    "Implement the function matrix_multiply(m1, m2) and test it by computing the products $M_1M_2$ and $M_3M_4$.\n"
   ]
  },
  {
   "cell_type": "code",
   "execution_count": 12,
   "metadata": {
    "collapsed": true
   },
   "outputs": [],
   "source": [
    "X = np.array([[6,7,7,8],[4,3,3,3]])\n",
    "Y = np.array([[1,3,5],[2,4,9],[8,9,0],[3,3,3]])\n",
    "Z = np.array([[10,13,45,11],[65,24,42,98],[1,1,2,0],[4,2,1,2]])"
   ]
  },
  {
   "cell_type": "code",
   "execution_count": 13,
   "metadata": {},
   "outputs": [
    {
     "data": {
      "text/plain": [
       "((2, 4), (4, 3), (4, 4))"
      ]
     },
     "execution_count": 13,
     "metadata": {},
     "output_type": "execute_result"
    }
   ],
   "source": [
    "X.shape,Y.shape,Z.shape"
   ]
  },
  {
   "cell_type": "code",
   "execution_count": 14,
   "metadata": {
    "collapsed": true
   },
   "outputs": [],
   "source": [
    "def matrix_multiply(m1, m2):\n",
    "    # Inner dimensions need to match. \n",
    "    # Otherwise, matrix multiplication is not defined\n",
    "    assert m1.shape[1] == m2.shape[0]\n",
    "    \n",
    "    # Create output matrix\n",
    "    out = np.zeros((m1.shape[0], m2.shape[1]), dtype=m1.dtype)\n",
    "    \n",
    "    # Each cell is the dot product between an `m1` row vector and a `m2` column vector, \n",
    "    # which have the same size\n",
    "    component_vector_size = m1.shape[1]\n",
    "    \n",
    "    # Fill it, cell by cell\n",
    "    #YOUR CODE HERE\n",
    "    for i_m1_row in range(m1.shape[0]):\n",
    "        for i_m2_col in range(m2.shape[1]):\n",
    "            product = 0\n",
    "            for i in range(component_vector_size):\n",
    "                product += m1[i_m1_row, i] * m2[i, i_m2_col]\n",
    "            out[i_m1_row, i_m2_col] = product\n",
    "                \n",
    "    return out"
   ]
  },
  {
   "cell_type": "code",
   "execution_count": 15,
   "metadata": {},
   "outputs": [
    {
     "data": {
      "text/plain": [
       "array([[100, 133, 117],\n",
       "       [ 43,  60,  56]])"
      ]
     },
     "execution_count": 15,
     "metadata": {},
     "output_type": "execute_result"
    }
   ],
   "source": [
    "matrix_multiply(X,Y)"
   ]
  },
  {
   "cell_type": "code",
   "execution_count": 16,
   "metadata": {},
   "outputs": [
    {
     "data": {
      "text/plain": [
       "array([[554, 269, 586, 768],\n",
       "       [250, 133, 315, 344]])"
      ]
     },
     "execution_count": 16,
     "metadata": {},
     "output_type": "execute_result"
    }
   ],
   "source": [
    "matrix_multiply(X,Z)"
   ]
  },
  {
   "cell_type": "code",
   "execution_count": 17,
   "metadata": {},
   "outputs": [
    {
     "data": {
      "text/plain": [
       "array([[429, 520, 200],\n",
       "       [743, 963, 835],\n",
       "       [ 19,  25,  14],\n",
       "       [ 22,  35,  44]])"
      ]
     },
     "execution_count": 17,
     "metadata": {},
     "output_type": "execute_result"
    }
   ],
   "source": [
    "matrix_multiply(Z,Y)"
   ]
  },
  {
   "cell_type": "markdown",
   "metadata": {},
   "source": [
    "#### Additional exercise:\n",
    "\n",
    "Implement matrix multiplication using only lists, without using any options that the `numpy` package gives you. "
   ]
  },
  {
   "cell_type": "code",
   "execution_count": 18,
   "metadata": {
    "collapsed": true
   },
   "outputs": [
    {
     "name": "stdout",
     "output_type": "stream",
     "text": [
      "[[100, 133, 117], [43, 60, 56]]\n",
      "[[554, 269, 586, 768], [250, 133, 315, 344]]\n",
      "[[429, 520, 200], [743, 963, 835], [19, 25, 14], [22, 35, 44]]\n"
     ]
    }
   ],
   "source": [
    "#YOUR CODE HERE (OPTIONAL)\n",
    "X = [[6,7,7,8],[4,3,3,3]]\n",
    "Y = [[1,3,5],[2,4,9],[8,9,0],[3,3,3]]\n",
    "Z = [[10,13,45,11],[65,24,42,98],[1,1,2,0],[4,2,1,2]]\n",
    "\n",
    "def matrix_mult(m1, m2):\n",
    "    # Inner dimensions need to match. \n",
    "    # Otherwise, matrix multiplication is not defined\n",
    "    assert len(m1[0]) == len(m2)\n",
    "    \n",
    "    # Create output matrix\n",
    "    out = [[0 for j in range(len(m2[1]))] for i in range(len(m1))]\n",
    "    \n",
    "    # Each cell is the dot product between an `m1` row vector and a `m2` column vector, \n",
    "    # which have the same size\n",
    "    component_vector_size = len(m1[0])\n",
    "    \n",
    "    # Fill it, cell by cell\n",
    "    for i_m1_row in range(len(m1)):\n",
    "        for i_m2_col in range(len(m2[1])):\n",
    "            product = 0\n",
    "            for i in range(component_vector_size):\n",
    "                product += m1[i_m1_row][i] * m2[i][i_m2_col]\n",
    "            out[i_m1_row][i_m2_col] = product\n",
    "                \n",
    "    return out\n",
    "\n",
    "print(matrix_mult(X, Y))\n",
    "print(matrix_mult(X, Z))\n",
    "print(matrix_mult(Z, Y))"
   ]
  }
 ],
 "metadata": {
  "kernelspec": {
   "display_name": "Python 3 (ipykernel)",
   "language": "python",
   "name": "python3"
  },
  "language_info": {
   "codemirror_mode": {
    "name": "ipython",
    "version": 3
   },
   "file_extension": ".py",
   "mimetype": "text/x-python",
   "name": "python",
   "nbconvert_exporter": "python",
   "pygments_lexer": "ipython3",
   "version": "3.11.4"
  }
 },
 "nbformat": 4,
 "nbformat_minor": 2
}
